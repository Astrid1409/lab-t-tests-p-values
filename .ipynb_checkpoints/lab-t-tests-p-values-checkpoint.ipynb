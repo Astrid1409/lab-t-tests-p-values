{
 "cells": [
  {
   "cell_type": "markdown",
   "id": "0ff900c8-8839-46d8-baca-089c84eeb6da",
   "metadata": {},
   "source": [
    "**Instructions**\n",
    "\n",
    "\r\n",
    "We will have another simple example on two sample t test (pooled- when the variances are equal). But this time this is a one sided t-test\r\n",
    "In a packing plant, a machine packs cartons with jars. It is supposed that a new machine will pack faster on the average than the machine currently used. To test that hypothesis, the times it takes each machine to pack ten cartons are recorded. The results, in seconds, are shown in the tables in the file files_for_lab/machine.txt. Assume that there is sufficient evidence to conduct the t test, does the data provide sufficient evidence to show if one machine is better than the other"
   ]
  },
  {
   "cell_type": "code",
   "execution_count": 1,
   "id": "4d771ad2-3c28-4bb6-9515-98ec4cc56239",
   "metadata": {},
   "outputs": [],
   "source": [
    "# Libraries\n",
    "import math\n",
    "import pandas as pd\n",
    "import numpy as np\n",
    "import matplotlib.pyplot as plt\n",
    "import scipy.stats as st\n",
    "import statsmodels.api as sm\n",
    "import statsmodels.formula.api as smf\n",
    "import scipy.stats as stats"
   ]
  },
  {
   "cell_type": "code",
   "execution_count": 2,
   "id": "4f999c43-e7d1-4c5a-9f47-a378200c009c",
   "metadata": {},
   "outputs": [
    {
     "data": {
      "text/html": [
       "<div>\n",
       "<style scoped>\n",
       "    .dataframe tbody tr th:only-of-type {\n",
       "        vertical-align: middle;\n",
       "    }\n",
       "\n",
       "    .dataframe tbody tr th {\n",
       "        vertical-align: top;\n",
       "    }\n",
       "\n",
       "    .dataframe thead th {\n",
       "        text-align: right;\n",
       "    }\n",
       "</style>\n",
       "<table border=\"1\" class=\"dataframe\">\n",
       "  <thead>\n",
       "    <tr style=\"text-align: right;\">\n",
       "      <th></th>\n",
       "      <th>New machine</th>\n",
       "      <th>Old machine</th>\n",
       "    </tr>\n",
       "  </thead>\n",
       "  <tbody>\n",
       "    <tr>\n",
       "      <th>0</th>\n",
       "      <td>42.1</td>\n",
       "      <td>42.7</td>\n",
       "    </tr>\n",
       "    <tr>\n",
       "      <th>1</th>\n",
       "      <td>41.0</td>\n",
       "      <td>43.6</td>\n",
       "    </tr>\n",
       "    <tr>\n",
       "      <th>2</th>\n",
       "      <td>41.3</td>\n",
       "      <td>43.8</td>\n",
       "    </tr>\n",
       "    <tr>\n",
       "      <th>3</th>\n",
       "      <td>41.8</td>\n",
       "      <td>43.3</td>\n",
       "    </tr>\n",
       "    <tr>\n",
       "      <th>4</th>\n",
       "      <td>42.4</td>\n",
       "      <td>42.5</td>\n",
       "    </tr>\n",
       "    <tr>\n",
       "      <th>5</th>\n",
       "      <td>42.8</td>\n",
       "      <td>43.5</td>\n",
       "    </tr>\n",
       "    <tr>\n",
       "      <th>6</th>\n",
       "      <td>43.2</td>\n",
       "      <td>43.1</td>\n",
       "    </tr>\n",
       "    <tr>\n",
       "      <th>7</th>\n",
       "      <td>42.3</td>\n",
       "      <td>41.7</td>\n",
       "    </tr>\n",
       "    <tr>\n",
       "      <th>8</th>\n",
       "      <td>41.8</td>\n",
       "      <td>44.0</td>\n",
       "    </tr>\n",
       "    <tr>\n",
       "      <th>9</th>\n",
       "      <td>42.7</td>\n",
       "      <td>44.1</td>\n",
       "    </tr>\n",
       "  </tbody>\n",
       "</table>\n",
       "</div>"
      ],
      "text/plain": [
       "   New machine      Old machine\n",
       "0         42.1             42.7\n",
       "1         41.0             43.6\n",
       "2         41.3             43.8\n",
       "3         41.8             43.3\n",
       "4         42.4             42.5\n",
       "5         42.8             43.5\n",
       "6         43.2             43.1\n",
       "7         42.3             41.7\n",
       "8         41.8             44.0\n",
       "9         42.7             44.1"
      ]
     },
     "execution_count": 2,
     "metadata": {},
     "output_type": "execute_result"
    }
   ],
   "source": [
    "df = pd.read_csv(\"C:/Users/astri/Ironhack/Labs/lab-t-tests-p-values/files_for_lab/machine.txt\",sep=\"\\t\", encoding=\"utf-16\")\n",
    "df"
   ]
  },
  {
   "cell_type": "markdown",
   "id": "5ccd40d5-47ea-40fe-a585-48006b36b1df",
   "metadata": {},
   "source": [
    "#### Define Hypotheses\n",
    "- **Null Hypothesis (H₀)**: The new machine will pack faster on the average than the old machine.\n",
    "\n",
    "- **Alternative Hypothesis (H₁)**: The new machine will pack slowest on the average than the old machine.\n",
    "\n",
    "**Hypothesis**\n",
    "\n",
    "H0: mu > x|\n",
    "\n",
    "\n",
    "H1: mu < x|"
   ]
  },
  {
   "cell_type": "code",
   "execution_count": 3,
   "id": "ec69535e-1b75-47b5-8a8b-33b5ae2401d3",
   "metadata": {},
   "outputs": [
    {
     "data": {
      "text/plain": [
       "Index(['New machine', '    Old machine'], dtype='object')"
      ]
     },
     "execution_count": 3,
     "metadata": {},
     "output_type": "execute_result"
    }
   ],
   "source": [
    "df.columns"
   ]
  },
  {
   "cell_type": "code",
   "execution_count": 7,
   "id": "200f102e-7596-4e1b-b572-5f05f3f10b17",
   "metadata": {},
   "outputs": [],
   "source": [
    "df.rename(columns={\"    Old machine\": \"Old machine\"}, inplace=True)"
   ]
  },
  {
   "cell_type": "code",
   "execution_count": 9,
   "id": "ff860f97-f455-4f53-9e70-1042b8d9722c",
   "metadata": {},
   "outputs": [
    {
     "data": {
      "text/plain": [
       "Index(['New machine', 'Old machine'], dtype='object')"
      ]
     },
     "execution_count": 9,
     "metadata": {},
     "output_type": "execute_result"
    }
   ],
   "source": [
    "df.columns"
   ]
  },
  {
   "cell_type": "code",
   "execution_count": 11,
   "id": "412483b7-7032-4a3e-87ed-9ddf00f85876",
   "metadata": {},
   "outputs": [],
   "source": [
    "# Extract times for new and old machines\n",
    "new_machine = df[\"New machine\"]\n",
    "old_machine = df[\"Old machine\"]"
   ]
  },
  {
   "cell_type": "code",
   "execution_count": 17,
   "id": "f7e409f6-0347-4cb0-b602-f69a802ad5d9",
   "metadata": {},
   "outputs": [
    {
     "name": "stdout",
     "output_type": "stream",
     "text": [
      "Estadístico t: -3.3972307061176026\n",
      "Valor p: 0.9983944287496127\n",
      "Fail to Reject the Null Hypothesis: The mean of the new machine is higer than the mean of the old machine\n"
     ]
    }
   ],
   "source": [
    "t_stat, p_value = stats.ttest_ind(new_machine, old_machine, alternative='greater')\n",
    "\n",
    "print(\"Estadístico t:\", t_stat)\n",
    "print(\"Valor p:\", p_value)\n",
    "\n",
    "\n",
    "alpha = 0.05\n",
    "\n",
    "\n",
    "if p_value > alpha:\n",
    "    print(\"Fail to Reject the Null Hypothesis: The mean of the new machine is higer than the mean of the old machine\")\n",
    "else:\n",
    "    print(\"Reject the Null Hypothesis: The mean of the new machine is lower than the mean of the old machine.\")"
   ]
  },
  {
   "cell_type": "code",
   "execution_count": null,
   "id": "c4371a00-5e61-4d08-803a-722c867d1753",
   "metadata": {},
   "outputs": [],
   "source": [
    "#We can conclude that the new machine improves the time production."
   ]
  }
 ],
 "metadata": {
  "kernelspec": {
   "display_name": "Python 3 (ipykernel)",
   "language": "python",
   "name": "python3"
  },
  "language_info": {
   "codemirror_mode": {
    "name": "ipython",
    "version": 3
   },
   "file_extension": ".py",
   "mimetype": "text/x-python",
   "name": "python",
   "nbconvert_exporter": "python",
   "pygments_lexer": "ipython3",
   "version": "3.12.4"
  }
 },
 "nbformat": 4,
 "nbformat_minor": 5
}
